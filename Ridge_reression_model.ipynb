{
 "cells": [
  {
   "cell_type": "code",
   "execution_count": 1,
   "id": "dae7e4e0",
   "metadata": {},
   "outputs": [],
   "source": [
    "# Libraries for data loading, data manipulation and data visulisation\n",
    "import numpy as np\n",
    "import pandas as pd\n",
    "import re\n",
    "\n",
    "import matplotlib.pyplot as plt\n",
    "import seaborn as sns\n",
    "\n",
    "from  scipy import stats\n",
    "from scipy.stats import pearsonr\n",
    "from statsmodels.graphics.tsaplots import plot_pacf, plot_acf\n",
    "from statsmodels.graphics.correlation import plot_corr\n",
    "\n",
    "from scipy.stats import chi2_contingency\n",
    "\n",
    "from sklearn.preprocessing import MinMaxScaler\n",
    "from sklearn.feature_selection import VarianceThreshold\n",
    "\n",
    "\n",
    "\n",
    "import calendar\n",
    "from datetime import datetime\n",
    "\n",
    "from sklearn import *\n",
    "from sklearn.metrics import mean_squared_error\n",
    "from sklearn.linear_model import *\n",
    "from sklearn.model_selection import train_test_split\n",
    "from sklearn.metrics import r2_score\n",
    "from sklearn.impute import SimpleImputer\n",
    "\n",
    "\n",
    "pd.set_option('display.max_rows', 500)\n",
    "pd.set_option('display.max_columns', 500)\n",
    "pd.set_option('display.width', 1000)\n",
    "\n",
    "\n",
    "sns.set_style('whitegrid')\n",
    "\n",
    "# Libraries for data preparation and model building\n",
    "#import *\n",
    "\n",
    "\n",
    "from sklearn.preprocessing import StandardScaler,PowerTransformer\n",
    "from sklearn.linear_model import LinearRegression, Ridge, Lasso\n",
    "from sklearn import metrics\n",
    "from sklearn.svm import SVR\n",
    "from sklearn.tree import DecisionTreeRegressor\n",
    "from sklearn.ensemble import RandomForestRegressor\n",
    "from sklearn.ensemble import AdaBoostRegressor\n",
    "from sklearn.model_selection import cross_val_score\n",
    "\n",
    "# Setting global constants to ensure notebook results are reproducible\n",
    "PARAMETER_CONSTANT = 4"
   ]
  },
  {
   "cell_type": "code",
   "execution_count": 2,
   "id": "74788468",
   "metadata": {},
   "outputs": [],
   "source": [
    "df = pd.read_csv('df_train.csv')\n",
    "df_test = pd.read_csv(\"df_test.csv\")"
   ]
  },
  {
   "cell_type": "code",
   "execution_count": null,
   "id": "2b0cb94f",
   "metadata": {},
   "outputs": [],
   "source": []
  },
  {
   "cell_type": "code",
   "execution_count": 3,
   "id": "f8959efc",
   "metadata": {},
   "outputs": [
    {
     "name": "stdout",
     "output_type": "stream",
     "text": [
      "<class 'pandas.core.frame.DataFrame'>\n",
      "RangeIndex: 8763 entries, 0 to 8762\n",
      "Data columns (total 49 columns):\n",
      " #   Column                Non-Null Count  Dtype  \n",
      "---  ------                --------------  -----  \n",
      " 0   Unnamed: 0            8763 non-null   int64  \n",
      " 1   time                  8763 non-null   object \n",
      " 2   Madrid_wind_speed     8763 non-null   float64\n",
      " 3   Valencia_wind_deg     8763 non-null   object \n",
      " 4   Bilbao_rain_1h        8763 non-null   float64\n",
      " 5   Valencia_wind_speed   8763 non-null   float64\n",
      " 6   Seville_humidity      8763 non-null   float64\n",
      " 7   Madrid_humidity       8763 non-null   float64\n",
      " 8   Bilbao_clouds_all     8763 non-null   float64\n",
      " 9   Bilbao_wind_speed     8763 non-null   float64\n",
      " 10  Seville_clouds_all    8763 non-null   float64\n",
      " 11  Bilbao_wind_deg       8763 non-null   float64\n",
      " 12  Barcelona_wind_speed  8763 non-null   float64\n",
      " 13  Barcelona_wind_deg    8763 non-null   float64\n",
      " 14  Madrid_clouds_all     8763 non-null   float64\n",
      " 15  Seville_wind_speed    8763 non-null   float64\n",
      " 16  Barcelona_rain_1h     8763 non-null   float64\n",
      " 17  Seville_pressure      8763 non-null   object \n",
      " 18  Seville_rain_1h       8763 non-null   float64\n",
      " 19  Bilbao_snow_3h        8763 non-null   float64\n",
      " 20  Barcelona_pressure    8763 non-null   float64\n",
      " 21  Seville_rain_3h       8763 non-null   float64\n",
      " 22  Madrid_rain_1h        8763 non-null   float64\n",
      " 23  Barcelona_rain_3h     8763 non-null   float64\n",
      " 24  Valencia_snow_3h      8763 non-null   float64\n",
      " 25  Madrid_weather_id     8763 non-null   float64\n",
      " 26  Barcelona_weather_id  8763 non-null   float64\n",
      " 27  Bilbao_pressure       8763 non-null   float64\n",
      " 28  Seville_weather_id    8763 non-null   float64\n",
      " 29  Valencia_pressure     6695 non-null   float64\n",
      " 30  Seville_temp_max      8763 non-null   float64\n",
      " 31  Madrid_pressure       8763 non-null   float64\n",
      " 32  Valencia_temp_max     8763 non-null   float64\n",
      " 33  Valencia_temp         8763 non-null   float64\n",
      " 34  Bilbao_weather_id     8763 non-null   float64\n",
      " 35  Seville_temp          8763 non-null   float64\n",
      " 36  Valencia_humidity     8763 non-null   float64\n",
      " 37  Valencia_temp_min     8763 non-null   float64\n",
      " 38  Barcelona_temp_max    8763 non-null   float64\n",
      " 39  Madrid_temp_max       8763 non-null   float64\n",
      " 40  Barcelona_temp        8763 non-null   float64\n",
      " 41  Bilbao_temp_min       8763 non-null   float64\n",
      " 42  Bilbao_temp           8763 non-null   float64\n",
      " 43  Barcelona_temp_min    8763 non-null   float64\n",
      " 44  Bilbao_temp_max       8763 non-null   float64\n",
      " 45  Seville_temp_min      8763 non-null   float64\n",
      " 46  Madrid_temp           8763 non-null   float64\n",
      " 47  Madrid_temp_min       8763 non-null   float64\n",
      " 48  load_shortfall_3h     8763 non-null   float64\n",
      "dtypes: float64(45), int64(1), object(3)\n",
      "memory usage: 3.3+ MB\n"
     ]
    }
   ],
   "source": [
    "df.info()"
   ]
  },
  {
   "cell_type": "code",
   "execution_count": 4,
   "id": "79ae4d1d",
   "metadata": {},
   "outputs": [
    {
     "data": {
      "text/plain": [
       "Unnamed: 0                 0\n",
       "time                       0\n",
       "Madrid_wind_speed          0\n",
       "Valencia_wind_deg          0\n",
       "Bilbao_rain_1h             0\n",
       "Valencia_wind_speed        0\n",
       "Seville_humidity           0\n",
       "Madrid_humidity            0\n",
       "Bilbao_clouds_all          0\n",
       "Bilbao_wind_speed          0\n",
       "Seville_clouds_all         0\n",
       "Bilbao_wind_deg            0\n",
       "Barcelona_wind_speed       0\n",
       "Barcelona_wind_deg         0\n",
       "Madrid_clouds_all          0\n",
       "Seville_wind_speed         0\n",
       "Barcelona_rain_1h          0\n",
       "Seville_pressure           0\n",
       "Seville_rain_1h            0\n",
       "Bilbao_snow_3h             0\n",
       "Barcelona_pressure         0\n",
       "Seville_rain_3h            0\n",
       "Madrid_rain_1h             0\n",
       "Barcelona_rain_3h          0\n",
       "Valencia_snow_3h           0\n",
       "Madrid_weather_id          0\n",
       "Barcelona_weather_id       0\n",
       "Bilbao_pressure            0\n",
       "Seville_weather_id         0\n",
       "Valencia_pressure       2068\n",
       "Seville_temp_max           0\n",
       "Madrid_pressure            0\n",
       "Valencia_temp_max          0\n",
       "Valencia_temp              0\n",
       "Bilbao_weather_id          0\n",
       "Seville_temp               0\n",
       "Valencia_humidity          0\n",
       "Valencia_temp_min          0\n",
       "Barcelona_temp_max         0\n",
       "Madrid_temp_max            0\n",
       "Barcelona_temp             0\n",
       "Bilbao_temp_min            0\n",
       "Bilbao_temp                0\n",
       "Barcelona_temp_min         0\n",
       "Bilbao_temp_max            0\n",
       "Seville_temp_min           0\n",
       "Madrid_temp                0\n",
       "Madrid_temp_min            0\n",
       "load_shortfall_3h          0\n",
       "dtype: int64"
      ]
     },
     "execution_count": 4,
     "metadata": {},
     "output_type": "execute_result"
    }
   ],
   "source": [
    "df.isnull().sum()"
   ]
  },
  {
   "cell_type": "code",
   "execution_count": 5,
   "id": "a7173b78",
   "metadata": {},
   "outputs": [],
   "source": [
    "# Drop \"Unnamed: 0\" column from data\n",
    "df =  df.drop([\"Unnamed: 0\"], axis = \"columns\")"
   ]
  },
  {
   "cell_type": "code",
   "execution_count": 6,
   "id": "59eba42c",
   "metadata": {},
   "outputs": [],
   "source": [
    "# creating dummy variables to convert categorical into numeric values\n",
    "mylist = list(df.select_dtypes(include=['object']).columns)\n",
    "dummies = pd.get_dummies(df[mylist], prefix= mylist)\n",
    "df.drop(mylist, axis=1, inplace = True)\n",
    "X = pd.concat([df,dummies], axis =1 )"
   ]
  },
  {
   "cell_type": "code",
   "execution_count": 7,
   "id": "c341c6ca",
   "metadata": {},
   "outputs": [
    {
     "name": "stdout",
     "output_type": "stream",
     "text": [
      "Mode --->  0    1018.0\n",
      "Name: Valencia_pressure, dtype: float64\n",
      "Median --->  1015.0\n",
      "Mean --->  1012.0514065222798\n"
     ]
    }
   ],
   "source": [
    "# Comparing different imputing values:\n",
    "\n",
    "print(\"Mode ---> \", df[\"Valencia_pressure\"].mode())\n",
    "\n",
    "print(\"Median ---> \", df[\"Valencia_pressure\"].median())\n",
    "\n",
    "print(\"Mean ---> \", df[\"Valencia_pressure\"].mean())"
   ]
  },
  {
   "cell_type": "code",
   "execution_count": 8,
   "id": "6d37e582",
   "metadata": {},
   "outputs": [],
   "source": [
    "# imputing missing values\n",
    "for col in df:\n",
    "    df[\"Valencia_pressure\"] = df[\"Valencia_pressure\"].fillna(df[\"Valencia_pressure\"].mode()[0])\n",
    "    df[col] = df[col].fillna(df[col].mode()[0])"
   ]
  },
  {
   "cell_type": "code",
   "execution_count": 9,
   "id": "09aecffe",
   "metadata": {},
   "outputs": [
    {
     "name": "stdout",
     "output_type": "stream",
     "text": [
      "Madrid_wind_speed       0\n",
      "Bilbao_rain_1h          0\n",
      "Valencia_wind_speed     0\n",
      "Seville_humidity        0\n",
      "Madrid_humidity         0\n",
      "Bilbao_clouds_all       0\n",
      "Bilbao_wind_speed       0\n",
      "Seville_clouds_all      0\n",
      "Bilbao_wind_deg         0\n",
      "Barcelona_wind_speed    0\n",
      "Barcelona_wind_deg      0\n",
      "Madrid_clouds_all       0\n",
      "Seville_wind_speed      0\n",
      "Barcelona_rain_1h       0\n",
      "Seville_rain_1h         0\n",
      "Bilbao_snow_3h          0\n",
      "Barcelona_pressure      0\n",
      "Seville_rain_3h         0\n",
      "Madrid_rain_1h          0\n",
      "Barcelona_rain_3h       0\n",
      "Valencia_snow_3h        0\n",
      "Madrid_weather_id       0\n",
      "Barcelona_weather_id    0\n",
      "Bilbao_pressure         0\n",
      "Seville_weather_id      0\n",
      "Valencia_pressure       0\n",
      "Seville_temp_max        0\n",
      "Madrid_pressure         0\n",
      "Valencia_temp_max       0\n",
      "Valencia_temp           0\n",
      "Bilbao_weather_id       0\n",
      "Seville_temp            0\n",
      "Valencia_humidity       0\n",
      "Valencia_temp_min       0\n",
      "Barcelona_temp_max      0\n",
      "Madrid_temp_max         0\n",
      "Barcelona_temp          0\n",
      "Bilbao_temp_min         0\n",
      "Bilbao_temp             0\n",
      "Barcelona_temp_min      0\n",
      "Bilbao_temp_max         0\n",
      "Seville_temp_min        0\n",
      "Madrid_temp             0\n",
      "Madrid_temp_min         0\n",
      "load_shortfall_3h       0\n",
      "dtype: int64\n"
     ]
    }
   ],
   "source": [
    "print(df.isnull().sum())"
   ]
  },
  {
   "cell_type": "markdown",
   "id": "7500d757",
   "metadata": {},
   "source": [
    "# Ridge regression model"
   ]
  },
  {
   "cell_type": "code",
   "execution_count": 10,
   "id": "36a91bbe",
   "metadata": {},
   "outputs": [
    {
     "name": "stderr",
     "output_type": "stream",
     "text": [
      "C:\\Users\\Fikile Lubambo\\AppData\\Local\\Temp\\ipykernel_16380\\3673590094.py:2: FutureWarning: In a future version of pandas all arguments of DataFrame.drop except for the argument 'labels' will be keyword-only.\n",
      "  X = df.drop('load_shortfall_3h',1)\n"
     ]
    }
   ],
   "source": [
    "# for cross validation\n",
    "X = df.drop('load_shortfall_3h',1)\n",
    "Y = df['load_shortfall_3h']\n",
    "x_train, x_validate, y_train, y_validate = train_test_split(X,Y, test_size =0.2)"
   ]
  },
  {
   "cell_type": "code",
   "execution_count": 11,
   "id": "bcd58a0a",
   "metadata": {},
   "outputs": [
    {
     "data": {
      "text/html": [
       "<style>#sk-container-id-1 {color: black;background-color: white;}#sk-container-id-1 pre{padding: 0;}#sk-container-id-1 div.sk-toggleable {background-color: white;}#sk-container-id-1 label.sk-toggleable__label {cursor: pointer;display: block;width: 100%;margin-bottom: 0;padding: 0.3em;box-sizing: border-box;text-align: center;}#sk-container-id-1 label.sk-toggleable__label-arrow:before {content: \"▸\";float: left;margin-right: 0.25em;color: #696969;}#sk-container-id-1 label.sk-toggleable__label-arrow:hover:before {color: black;}#sk-container-id-1 div.sk-estimator:hover label.sk-toggleable__label-arrow:before {color: black;}#sk-container-id-1 div.sk-toggleable__content {max-height: 0;max-width: 0;overflow: hidden;text-align: left;background-color: #f0f8ff;}#sk-container-id-1 div.sk-toggleable__content pre {margin: 0.2em;color: black;border-radius: 0.25em;background-color: #f0f8ff;}#sk-container-id-1 input.sk-toggleable__control:checked~div.sk-toggleable__content {max-height: 200px;max-width: 100%;overflow: auto;}#sk-container-id-1 input.sk-toggleable__control:checked~label.sk-toggleable__label-arrow:before {content: \"▾\";}#sk-container-id-1 div.sk-estimator input.sk-toggleable__control:checked~label.sk-toggleable__label {background-color: #d4ebff;}#sk-container-id-1 div.sk-label input.sk-toggleable__control:checked~label.sk-toggleable__label {background-color: #d4ebff;}#sk-container-id-1 input.sk-hidden--visually {border: 0;clip: rect(1px 1px 1px 1px);clip: rect(1px, 1px, 1px, 1px);height: 1px;margin: -1px;overflow: hidden;padding: 0;position: absolute;width: 1px;}#sk-container-id-1 div.sk-estimator {font-family: monospace;background-color: #f0f8ff;border: 1px dotted black;border-radius: 0.25em;box-sizing: border-box;margin-bottom: 0.5em;}#sk-container-id-1 div.sk-estimator:hover {background-color: #d4ebff;}#sk-container-id-1 div.sk-parallel-item::after {content: \"\";width: 100%;border-bottom: 1px solid gray;flex-grow: 1;}#sk-container-id-1 div.sk-label:hover label.sk-toggleable__label {background-color: #d4ebff;}#sk-container-id-1 div.sk-serial::before {content: \"\";position: absolute;border-left: 1px solid gray;box-sizing: border-box;top: 0;bottom: 0;left: 50%;z-index: 0;}#sk-container-id-1 div.sk-serial {display: flex;flex-direction: column;align-items: center;background-color: white;padding-right: 0.2em;padding-left: 0.2em;position: relative;}#sk-container-id-1 div.sk-item {position: relative;z-index: 1;}#sk-container-id-1 div.sk-parallel {display: flex;align-items: stretch;justify-content: center;background-color: white;position: relative;}#sk-container-id-1 div.sk-item::before, #sk-container-id-1 div.sk-parallel-item::before {content: \"\";position: absolute;border-left: 1px solid gray;box-sizing: border-box;top: 0;bottom: 0;left: 50%;z-index: -1;}#sk-container-id-1 div.sk-parallel-item {display: flex;flex-direction: column;z-index: 1;position: relative;background-color: white;}#sk-container-id-1 div.sk-parallel-item:first-child::after {align-self: flex-end;width: 50%;}#sk-container-id-1 div.sk-parallel-item:last-child::after {align-self: flex-start;width: 50%;}#sk-container-id-1 div.sk-parallel-item:only-child::after {width: 0;}#sk-container-id-1 div.sk-dashed-wrapped {border: 1px dashed gray;margin: 0 0.4em 0.5em 0.4em;box-sizing: border-box;padding-bottom: 0.4em;background-color: white;}#sk-container-id-1 div.sk-label label {font-family: monospace;font-weight: bold;display: inline-block;line-height: 1.2em;}#sk-container-id-1 div.sk-label-container {text-align: center;}#sk-container-id-1 div.sk-container {/* jupyter's `normalize.less` sets `[hidden] { display: none; }` but bootstrap.min.css set `[hidden] { display: none !important; }` so we also need the `!important` here to be able to override the default hidden behavior on the sphinx rendered scikit-learn.org. See: https://github.com/scikit-learn/scikit-learn/issues/21755 */display: inline-block !important;position: relative;}#sk-container-id-1 div.sk-text-repr-fallback {display: none;}</style><div id=\"sk-container-id-1\" class=\"sk-top-container\"><div class=\"sk-text-repr-fallback\"><pre>Ridge()</pre><b>In a Jupyter environment, please rerun this cell to show the HTML representation or trust the notebook. <br />On GitHub, the HTML representation is unable to render, please try loading this page with nbviewer.org.</b></div><div class=\"sk-container\" hidden><div class=\"sk-item\"><div class=\"sk-estimator sk-toggleable\"><input class=\"sk-toggleable__control sk-hidden--visually\" id=\"sk-estimator-id-1\" type=\"checkbox\" checked><label for=\"sk-estimator-id-1\" class=\"sk-toggleable__label sk-toggleable__label-arrow\">Ridge</label><div class=\"sk-toggleable__content\"><pre>Ridge()</pre></div></div></div></div></div>"
      ],
      "text/plain": [
       "Ridge()"
      ]
     },
     "execution_count": 11,
     "metadata": {},
     "output_type": "execute_result"
    }
   ],
   "source": [
    "## training the model\n",
    "ridge = Ridge()\n",
    "ridge.fit(x_train,y_train)"
   ]
  },
  {
   "cell_type": "code",
   "execution_count": 12,
   "id": "80dfa8a8",
   "metadata": {},
   "outputs": [],
   "source": [
    "# predicting on validation\n",
    "pred = ridge.predict(x_validate)"
   ]
  },
  {
   "cell_type": "code",
   "execution_count": 13,
   "id": "ff5c78ab",
   "metadata": {},
   "outputs": [
    {
     "name": "stdout",
     "output_type": "stream",
     "text": [
      "MSE: 23448128.602873057\n"
     ]
    }
   ],
   "source": [
    "# calculating mse\n",
    "MSE = np.mean((pred - y_validate)**2)\n",
    "print('MSE:', MSE)"
   ]
  },
  {
   "cell_type": "code",
   "execution_count": 14,
   "id": "610d02d7",
   "metadata": {},
   "outputs": [
    {
     "name": "stdout",
     "output_type": "stream",
     "text": [
      "R2: 0.12829177148102766\n"
     ]
    }
   ],
   "source": [
    "## calculating r2 \n",
    "R2 = ridge.score(x_validate,y_validate) \n",
    "print('R2:', R2)"
   ]
  },
  {
   "cell_type": "code",
   "execution_count": 15,
   "id": "da18344e",
   "metadata": {},
   "outputs": [
    {
     "name": "stdout",
     "output_type": "stream",
     "text": [
      "Intercept: -57768.247072966886\n"
     ]
    }
   ],
   "source": [
    "# Extract the model intercept value\n",
    "b0 = float(ridge.intercept_)\n",
    "print(\"Intercept:\", float(b0))"
   ]
  },
  {
   "cell_type": "code",
   "execution_count": 16,
   "id": "6475f2f7",
   "metadata": {},
   "outputs": [
    {
     "name": "stdout",
     "output_type": "stream",
     "text": [
      "                      Coefficient\n",
      "Madrid_wind_speed     -297.938832\n",
      "Bilbao_rain_1h        -485.306446\n",
      "Valencia_wind_speed    -76.793920\n",
      "Seville_humidity       -46.086741\n",
      "Madrid_humidity          4.350615\n",
      "Bilbao_clouds_all       -5.114637\n",
      "Bilbao_wind_speed      -56.193083\n",
      "Seville_clouds_all       3.583897\n",
      "Bilbao_wind_deg         -2.112684\n",
      "Barcelona_wind_speed   -80.144651\n",
      "Barcelona_wind_deg      -3.106705\n",
      "Madrid_clouds_all        6.859224\n",
      "Seville_wind_speed      -7.483991\n",
      "Barcelona_rain_1h     -177.888342\n",
      "Seville_rain_1h        769.026327\n",
      "Bilbao_snow_3h          27.476496\n",
      "Barcelona_pressure      -0.007228\n",
      "Seville_rain_3h      -4250.735490\n",
      "Madrid_rain_1h           7.522522\n",
      "Barcelona_rain_3h    -3297.981313\n",
      "Valencia_snow_3h     -2365.109485\n",
      "Madrid_weather_id       -0.688626\n",
      "Barcelona_weather_id     1.270573\n",
      "Bilbao_pressure         -8.182663\n",
      "Seville_weather_id       1.710115\n",
      "Valencia_pressure       47.732931\n",
      "Seville_temp_max      -199.952801\n",
      "Madrid_pressure          0.186652\n",
      "Valencia_temp_max     -181.923961\n",
      "Valencia_temp         -355.132505\n",
      "Bilbao_weather_id        1.408696\n",
      "Seville_temp           395.545474\n",
      "Valencia_humidity       20.533810\n",
      "Valencia_temp_min      599.359946\n",
      "Barcelona_temp_max    -129.170961\n",
      "Madrid_temp_max       -219.853622\n",
      "Barcelona_temp         461.846352\n",
      "Bilbao_temp_min        548.540548\n",
      "Bilbao_temp          -1052.591700\n",
      "Barcelona_temp_min    -212.850906\n",
      "Bilbao_temp_max        503.438647\n",
      "Seville_temp_min      -333.407172\n",
      "Madrid_temp            526.044561\n",
      "Madrid_temp_min       -246.453639\n"
     ]
    }
   ],
   "source": [
    "# Extract the model coefficient value\n",
    "coeff = pd.DataFrame(ridge.coef_, X.columns, columns=['Coefficient'])\n",
    "print(coeff)"
   ]
  },
  {
   "cell_type": "markdown",
   "id": "04cfc8ef",
   "metadata": {},
   "source": [
    "# Assess the predictive accuracy of the model"
   ]
  },
  {
   "cell_type": "code",
   "execution_count": 17,
   "id": "4ebe49f4",
   "metadata": {},
   "outputs": [
    {
     "name": "stdout",
     "output_type": "stream",
     "text": [
      "MSE: 23432948.394602984\n",
      "R2: 0.12885611129184027\n"
     ]
    }
   ],
   "source": [
    "#LINEAR REGRESSION TO COMPARE WITH\n",
    "#Define linear model\n",
    "lreg = LinearRegression()\n",
    "# training a linear regression model on train\n",
    "lreg.fit(x_train,y_train)\n",
    "# predicting on validation\n",
    "pred_validate = lreg.predict(x_validate)\n",
    "# calculating mse\n",
    "MSE = np.mean((pred_validate - y_validate)**2)\n",
    "print('MSE:', MSE)\n",
    "# evaluation using r-square\n",
    "R2 = lreg.score(x_validate,y_validate)\n",
    "print('R2:', R2)\n"
   ]
  },
  {
   "cell_type": "code",
   "execution_count": 18,
   "id": "2fb1b79b",
   "metadata": {},
   "outputs": [
    {
     "name": "stdout",
     "output_type": "stream",
     "text": [
      "                       Coefficient\n",
      "Madrid_wind_speed      -299.579700\n",
      "Bilbao_rain_1h         -496.038281\n",
      "Valencia_wind_speed     -74.661914\n",
      "Seville_humidity        -45.780270\n",
      "Madrid_humidity           4.466720\n",
      "Bilbao_clouds_all        -5.443902\n",
      "Bilbao_wind_speed       -63.039875\n",
      "Seville_clouds_all        4.359374\n",
      "Bilbao_wind_deg          -2.086737\n",
      "Barcelona_wind_speed    -74.108017\n",
      "Barcelona_wind_deg       -3.278971\n",
      "Madrid_clouds_all         6.879268\n",
      "Seville_wind_speed      -10.479900\n",
      "Barcelona_rain_1h      -175.021374\n",
      "Seville_rain_1h         731.535867\n",
      "Bilbao_snow_3h           47.358370\n",
      "Barcelona_pressure       -0.007178\n",
      "Seville_rain_3h      -46146.384684\n",
      "Madrid_rain_1h           -5.102550\n",
      "Barcelona_rain_3h    -25473.599133\n",
      "Valencia_snow_3h      -4706.858964\n",
      "Madrid_weather_id        -0.976107\n",
      "Barcelona_weather_id      1.392016\n",
      "Bilbao_pressure          -8.042452\n",
      "Seville_weather_id        1.880302\n",
      "Valencia_pressure        47.958724\n",
      "Seville_temp_max       -197.166138\n",
      "Madrid_pressure           1.589033\n",
      "Valencia_temp_max      -188.516858\n",
      "Valencia_temp          -351.712054\n",
      "Bilbao_weather_id         1.295931\n",
      "Seville_temp            383.285757\n",
      "Valencia_humidity        20.093761\n",
      "Valencia_temp_min       592.484959\n",
      "Barcelona_temp_max     -129.569249\n",
      "Madrid_temp_max        -218.528964\n",
      "Barcelona_temp          462.461727\n",
      "Bilbao_temp_min         551.434841\n",
      "Bilbao_temp           -1043.806345\n",
      "Barcelona_temp_min     -211.328178\n",
      "Bilbao_temp_max         493.160104\n",
      "Seville_temp_min       -319.995707\n",
      "Madrid_temp             525.048419\n",
      "Madrid_temp_min        -245.576680\n"
     ]
    }
   ],
   "source": [
    "# Extract the model coefficient value\n",
    "coeff = pd.DataFrame(lreg.coef_, X.columns, columns=['Coefficient'])\n",
    "print(coeff)"
   ]
  },
  {
   "cell_type": "code",
   "execution_count": 19,
   "id": "0b5b2d7f",
   "metadata": {},
   "outputs": [
    {
     "name": "stdout",
     "output_type": "stream",
     "text": [
      "Training MSE\n",
      "Linear: 23124994.316230554\n",
      "Ridge : 23161614.755832475\n"
     ]
    }
   ],
   "source": [
    "# Check training accuracy\n",
    "train_lreg = lreg.predict(x_train)\n",
    "train_ridge = ridge.predict(x_train)\n",
    "\n",
    "print('Training MSE')\n",
    "print('Linear:', metrics.mean_squared_error(y_train, train_lreg))\n",
    "print('Ridge :', metrics.mean_squared_error(y_train, train_ridge))"
   ]
  },
  {
   "cell_type": "code",
   "execution_count": 20,
   "id": "2b95fb68",
   "metadata": {},
   "outputs": [
    {
     "name": "stdout",
     "output_type": "stream",
     "text": [
      "Testing MSE\n",
      "Linear: 23432948.394602984\n",
      "Ridge : 23448128.602873057\n"
     ]
    }
   ],
   "source": [
    "test_lreg = lreg.predict(x_validate)\n",
    "test_ridge = ridge.predict(x_validate)\n",
    "\n",
    "print('Testing MSE')\n",
    "print('Linear:', metrics.mean_squared_error(y_validate, test_lreg))\n",
    "print('Ridge :', metrics.mean_squared_error(y_validate, test_ridge))"
   ]
  },
  {
   "cell_type": "markdown",
   "id": "6b702601",
   "metadata": {},
   "source": [
    "# submission to Kaggle"
   ]
  },
  {
   "cell_type": "code",
   "execution_count": 21,
   "id": "ecd2671e",
   "metadata": {},
   "outputs": [],
   "source": [
    "# Training the model on complete test dataset:\n",
    "ridge.fit(X, Y)\n",
    "\n",
    "# Making predictions for the test values of y:\n",
    "ridge_submission_predictions = ridge.predict(X)"
   ]
  },
  {
   "cell_type": "code",
   "execution_count": 22,
   "id": "22160757",
   "metadata": {},
   "outputs": [],
   "source": [
    "# Make Dataframe from predicted values\n",
    "ridge_pred_df = pd.DataFrame(ridge_submission_predictions, columns=['load_shortfall_3h'])\n",
    "# Make Dataframe from corresponding dates\n",
    "output_df = pd.DataFrame({'time':df_test['time']})\n",
    "\n",
    "# Join dataframes to create a single submission dataframe\n",
    "submission_df = output_df.join(ridge_pred_df)\n",
    "\n",
    "#Save submission as csv\n",
    "submission_df.to_csv('TeamGM4_Ridge_Regression_Kaggle_Submission', index=False)"
   ]
  },
  {
   "cell_type": "code",
   "execution_count": null,
   "id": "28c2c7bf",
   "metadata": {},
   "outputs": [],
   "source": []
  }
 ],
 "metadata": {
  "kernelspec": {
   "display_name": "Python 3 (ipykernel)",
   "language": "python",
   "name": "python3"
  },
  "language_info": {
   "codemirror_mode": {
    "name": "ipython",
    "version": 3
   },
   "file_extension": ".py",
   "mimetype": "text/x-python",
   "name": "python",
   "nbconvert_exporter": "python",
   "pygments_lexer": "ipython3",
   "version": "3.10.9"
  }
 },
 "nbformat": 4,
 "nbformat_minor": 5
}
